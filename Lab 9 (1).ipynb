{
 "cells": [
  {
   "cell_type": "code",
   "execution_count": 33,
   "metadata": {},
   "outputs": [],
   "source": [
    "import numpy as np\n",
    "import pandas as pd\n",
    "import matplotlib.pyplot as plt\n",
    "import seaborn as sns\n",
    "\n",
    "import datetime\n",
    "\n",
    "\n",
    "import dash\n",
    "from dash import html\n",
    "from dash import dcc\n",
    "import plotly.graph_objects as go\n",
    "import plotly.express as px\n",
    "from dash.dependencies import Input, Output\n",
    "\n",
    "\n",
    "import warnings\n",
    "warnings.filterwarnings(\"ignore\")"
   ]
  },
  {
   "cell_type": "code",
   "execution_count": 34,
   "metadata": {},
   "outputs": [],
   "source": [
    "importaciones = pd.read_csv(\"data_importaciones.csv\", sep = \";\")\n",
    "consumo = pd.read_csv(\"data_consumo.csv\", sep = \";\")"
   ]
  },
  {
   "cell_type": "code",
   "execution_count": 35,
   "metadata": {},
   "outputs": [],
   "source": [
    "data_con = consumo.rename(columns = {\"GasolinaRegular\": \"Regular\", \"GasolinaSuper\": \"Super\"})\n",
    "data_imp = importaciones.rename(columns = {\"GasolinaRegular\": \"Regular\", \"GasolinaSuper\": \"Super\"})"
   ]
  },
  {
   "cell_type": "code",
   "execution_count": 42,
   "metadata": {},
   "outputs": [
    {
     "name": "stdout",
     "output_type": "stream",
     "text": [
      "252 252\n"
     ]
    }
   ],
   "source": [
    "print(len(data_con), len(data_imp))"
   ]
  },
  {
   "cell_type": "code",
   "execution_count": 40,
   "metadata": {},
   "outputs": [
    {
     "data": {
      "text/plain": [
       "Index(['Anio', 'Mes', 'Super', 'Regular', 'Diesel', 'Fechas', 'Super_Arima',\n",
       "       'Regular_Arima', 'Diesel_Arima', 'Super_SARIMAX', 'Regular_SARIMAX',\n",
       "       'Diesel_SARIMAX', 'Super_EXP', 'Regular_EXP', 'Diesel_EXP'],\n",
       "      dtype='object')"
      ]
     },
     "execution_count": 40,
     "metadata": {},
     "output_type": "execute_result"
    }
   ],
   "source": [
    "data_con.columns"
   ]
  },
  {
   "cell_type": "code",
   "execution_count": 41,
   "metadata": {},
   "outputs": [
    {
     "data": {
      "text/plain": [
       "Index(['Anio', 'Mes', 'Super', 'Regular', 'Diesel', 'Fechas', 'Super_Arima',\n",
       "       'Regular_Arima', 'Diesel_Arima', 'Super_SARIMAX', 'Regular_SARIMAX',\n",
       "       'Diesel_SARIMAX', 'Super_EXP', 'Regular_EXP', 'Diesel_EXP'],\n",
       "      dtype='object')"
      ]
     },
     "execution_count": 41,
     "metadata": {},
     "output_type": "execute_result"
    }
   ],
   "source": [
    "data_imp.columns"
   ]
  },
  {
   "cell_type": "markdown",
   "metadata": {},
   "source": [
    "### Bases para Consumo"
   ]
  },
  {
   "cell_type": "code",
   "execution_count": 50,
   "metadata": {},
   "outputs": [],
   "source": [
    "RegularCon = data_con.drop(columns = ['Super','Diesel', 'Super_Arima', 'Diesel_Arima', 'Super_SARIMAX',\n",
    "       'Diesel_SARIMAX', 'Super_EXP', 'Diesel_EXP'])\n",
    "\n",
    "SuperCon = data_con.drop(columns = ['Regular', 'Diesel',\n",
    "       'Regular_Arima', 'Diesel_Arima', 'Regular_SARIMAX',\n",
    "       'Diesel_SARIMAX', 'Regular_EXP', 'Diesel_EXP'])\n",
    "\n",
    "DieselCon = data_con.drop(columns = ['Super', 'Regular', 'Super_Arima',\n",
    "       'Regular_Arima', 'Super_SARIMAX', 'Regular_SARIMAX', 'Super_EXP', 'Regular_EXP'])"
   ]
  },
  {
   "cell_type": "code",
   "execution_count": 57,
   "metadata": {},
   "outputs": [
    {
     "data": {
      "text/plain": [
       "Index(['Anio', 'Mes', 'Regular', 'Fechas', 'Regular_Arima', 'Regular_SARIMAX',\n",
       "       'Regular_EXP'],\n",
       "      dtype='object')"
      ]
     },
     "execution_count": 57,
     "metadata": {},
     "output_type": "execute_result"
    }
   ],
   "source": [
    "RegularCon.columns"
   ]
  },
  {
   "cell_type": "code",
   "execution_count": 58,
   "metadata": {},
   "outputs": [],
   "source": [
    "RegularCon = RegularCon.rename(columns = {\"Regular_Arima\": \"Arima\", \"Regular_SARIMAX\": \"Sarimax\", \"Regular_EXP\": \"Exponencial\"})\n",
    "SuperCon = SuperCon.rename(columns = {\"Super_Arima\": \"Arima\", \"Super_SARIMAX\": \"Sarimax\", \"Super_EXP\": \"Exponencial\"})\n",
    "DieselCon = DieselCon.rename(columns = {\"Diesel_Arima\": \"Arima\", \"Diesel_SARIMAX\": \"Sarimax\", \"Diesel_EXP\": \"Exponencial\"})"
   ]
  },
  {
   "cell_type": "markdown",
   "metadata": {},
   "source": [
    "### Bases para importaciones"
   ]
  },
  {
   "cell_type": "code",
   "execution_count": 59,
   "metadata": {},
   "outputs": [],
   "source": [
    "RegularImp = data_imp.drop(columns = ['Super','Diesel', 'Super_Arima', 'Diesel_Arima', 'Super_SARIMAX',\n",
    "       'Diesel_SARIMAX', 'Super_EXP', 'Diesel_EXP'])\n",
    "\n",
    "SuperImp = data_imp.drop(columns = ['Regular', 'Diesel',\n",
    "       'Regular_Arima', 'Diesel_Arima', 'Regular_SARIMAX',\n",
    "       'Diesel_SARIMAX', 'Regular_EXP', 'Diesel_EXP'])\n",
    "\n",
    "DieselImp = data_imp.drop(columns = ['Super', 'Regular', 'Super_Arima',\n",
    "       'Regular_Arima', 'Super_SARIMAX', 'Regular_SARIMAX', 'Super_EXP', 'Regular_EXP'])"
   ]
  },
  {
   "cell_type": "code",
   "execution_count": 60,
   "metadata": {},
   "outputs": [],
   "source": [
    "RegularImp = RegularImp.rename(columns = {\"Regular_Arima\": \"Arima\", \"Regular_SARIMAX\": \"Sarimax\", \"Regular_EXP\": \"Exponencial\"})\n",
    "SuperImp = SuperImp.rename(columns = {\"Super_Arima\": \"Arima\", \"Super_SARIMAX\": \"Sarimax\", \"Super_EXP\": \"Exponencial\"})\n",
    "DieselImp = DieselImp.rename(columns = {\"Diesel_Arima\": \"Arima\", \"Diesel_SARIMAX\": \"Sarimax\", \"Diesel_EXP\": \"Exponencial\"})"
   ]
  },
  {
   "cell_type": "code",
   "execution_count": 64,
   "metadata": {
    "tags": []
   },
   "outputs": [],
   "source": [
    "\n",
    "app = dash.Dash()\n",
    "\n",
    "df = data_con\n",
    "df2 = data_imp\n",
    "\n",
    "\n",
    "app.layout = html.Div(id = 'parent', children = [\n",
    "    html.H1(id = 'H1', children = 'Información sobre Gasolina', style = {'textAlign':'center',\\\n",
    "                                            'marginTop':40,'marginBottom':40}),\n",
    "\n",
    "        dcc.Dropdown(id = 'dropdown',\n",
    "        options = [\n",
    "            {'label':'Diesel', 'value':'Diesel' },\n",
    "            {'label': 'Regular', 'value':'Regular'},\n",
    "            {'label': 'Super', 'value':'Super'},\n",
    "            ],\n",
    "        value = 'Diesel'),\n",
    "        dcc.RangeSlider(id = \"range_slider\",\n",
    "              min = 0,\n",
    "              max = len(df),\n",
    "              step = 1,\n",
    "              value = [0, len(df)],\n",
    "              marks = {str(i): str(i) for i in range(0, len(df), 12 )}),\n",
    "        dcc.Graph(id = 'bar_plot'), \n",
    "        dcc.Graph(id = 'bar_plot_2'),\n",
    "\n",
    "        dcc.Dropdown(id = 'dropdown_2',\n",
    "        options = [\n",
    "            {'label':'Diesel', 'value':'Diesel' },\n",
    "            {'label': 'Regular', 'value':'Regular'},\n",
    "            {'label': 'Super', 'value':'Super'},\n",
    "            ],\n",
    "        value = 'Diesel'),\n",
    "        dcc.RangeSlider(id = \"range_slider_2\",\n",
    "              min = 1,\n",
    "              max = len(df),\n",
    "              step = 12,\n",
    "              value = [1, len(df)],\n",
    "              marks = {str(i): str( 2000 + int(i/12) ) for i in range(0, len(df), 12)}),\n",
    "        dcc.Graph(id = 'bar_plot_3'),\n",
    "        dcc.Graph(id = 'bar_plot_4'),\n",
    "    \n",
    "        dcc.Dropdown(id = 'dropdown_3',\n",
    "        options = [\n",
    "            {'label':'Diesel', 'value':'Diesel' },\n",
    "            {'label': 'Regular', 'value':'Regular'},\n",
    "            {'label': 'Super', 'value':'Super'},\n",
    "            ],\n",
    "        value = 'Diesel'),\n",
    "        dcc.RangeSlider(id = \"range_slider_3\",\n",
    "              min = 1,\n",
    "              max = len(df),\n",
    "              step = 20,\n",
    "              value = [0, len(df)],\n",
    "              marks = {str(i): str(int(i/21) ) for i in range(0, len(df), 21)}),\n",
    "        dcc.Graph(id = 'bar_plot_5'),\n",
    "        dcc.Graph(id = 'bar_plot_6'),\n",
    "\n",
    "        dcc.Dropdown(id = 'dropdown_4',\n",
    "        options = [\n",
    "            {'label':'Modelo Arima', 'value':'Arima' },\n",
    "            {'label': 'Modelo Sarimax', 'value':'Sarimax'},\n",
    "            {'label': 'Modelo Exponencial', 'value':'Exponencial'},\n",
    "            ],\n",
    "        value = 'Arima'),\n",
    "        dcc.Graph(id = 'bar_plot_7'),\n",
    "        dcc.Graph(id = 'bar_plot_8'),\n",
    "    \n",
    "        dcc.Dropdown(id = 'dropdown_5',\n",
    "        options = [\n",
    "            {'label':'Modelo Arima', 'value':'Arima' },\n",
    "            {'label': 'Modelo Sarimax', 'value':'Sarimax'},\n",
    "            {'label': 'Modelo Exponencial', 'value':'Exponencial'},\n",
    "            ],\n",
    "        value = 'Arima'),\n",
    "        dcc.Graph(id = 'bar_plot_9'),\n",
    "        dcc.Graph(id = 'bar_plot_10'),\n",
    "\n",
    "        dcc.Dropdown(id = 'dropdown_6',\n",
    "        options = [\n",
    "            {'label':'Modelo Arima', 'value':'Arima' },\n",
    "            {'label': 'Modelo Sarimax', 'value':'Sarimax'},\n",
    "            {'label': 'Modelo Exponencial', 'value':'Exponencial'},\n",
    "            ],\n",
    "        value = 'Arima'),\n",
    "        dcc.Graph(id = 'bar_plot_11'),\n",
    "        dcc.Graph(id = 'bar_plot_12')\n",
    "      \n",
    "\n",
    "        ])\n",
    "\n",
    "\n",
    "    \n",
    "    \n",
    "@app.callback(Output(component_id='bar_plot', component_property= 'figure'),\n",
    "              Output(component_id='bar_plot_2', component_property= 'figure'),\n",
    "              Output(component_id='bar_plot_3', component_property= 'figure'),\n",
    "              Output(component_id='bar_plot_4', component_property= 'figure'),\n",
    "              Output(component_id='bar_plot_5', component_property= 'figure'),\n",
    "              Output(component_id='bar_plot_6', component_property= 'figure'),\n",
    "              Output(component_id='bar_plot_7', component_property= 'figure'),\n",
    "              Output(component_id='bar_plot_8', component_property= 'figure'),\n",
    "              Output(component_id='bar_plot_9', component_property= 'figure'),\n",
    "              Output(component_id='bar_plot_10', component_property= 'figure'),\n",
    "              Output(component_id='bar_plot_11', component_property= 'figure'),\n",
    "              Output(component_id='bar_plot_12', component_property= 'figure'),\n",
    "              Input(component_id='dropdown', component_property= 'value'),\n",
    "              Input(component_id = \"range_slider\", component_property = \"value\"),\n",
    "              Input(component_id='dropdown_2', component_property= 'value'),\n",
    "              Input(component_id = \"range_slider_2\", component_property = \"value\"),\n",
    "              Input(component_id='dropdown_3', component_property= 'value'),\n",
    "              Input(component_id = \"range_slider_3\", component_property = \"value\"),\n",
    "              Input(component_id='dropdown_4', component_property= 'value'),\n",
    "              Input(component_id='dropdown_5', component_property= 'value'),\n",
    "              Input(component_id='dropdown_6', component_property= 'value'))\n",
    "\n",
    "\n",
    "def graph_update(dropdown_value, rslider_value, drompdown_2_value, rslider_value_2,\n",
    "                drompdown_3_value, rslider_value_3, drompdown_4_value, drompdown_5_value,\n",
    "                drompdown_6_value):\n",
    "\n",
    "    \n",
    "    fig1 = go.Figure([go.Scatter(x = df['Fechas'][rslider_value[0]: rslider_value[len(rslider_value) - 1]], \n",
    "                                 y = df['{}'.format(dropdown_value)][rslider_value[0]: rslider_value[len(rslider_value) - 1]],\\\n",
    "                     line = dict(color = 'red', width = 5))])\n",
    "    \n",
    "    fig2 = go.Figure([go.Scatter(x = df2['Fechas'][rslider_value[0]: rslider_value[len(rslider_value) - 1]], \n",
    "                                 y = df2['{}'.format(dropdown_value)][rslider_value[0]: rslider_value[len(rslider_value) - 1]],\\\n",
    "                     line = dict(color = 'blue', width = 5))])\n",
    "    \n",
    "    fig3 = go.Figure([go.Bar(x = df[\"Anio\"][rslider_value_2[0]: rslider_value_2[len(rslider_value_2) - 1]], \n",
    "                             y = df['{}'.format(drompdown_2_value)])])\n",
    "    \n",
    "    fig4 = go.Figure([go.Bar(x = df2[\"Anio\"][rslider_value_2[0]: rslider_value_2[len(rslider_value_2) - 1]], \n",
    "                         y = df2['{}'.format(drompdown_2_value)])])\n",
    "    \n",
    "    fig5 = go.Figure([go.Bar(x = df[\"Mes\"], \n",
    "                             y = df['{}'.format(drompdown_3_value)])])\n",
    "    \n",
    "    fig6 = go.Figure([go.Bar(x = df2[\"Mes\"], \n",
    "                         y = df2['{}'.format(drompdown_3_value)])])\n",
    "    \n",
    "    fig7 = go.Figure([go.Scatter(x = RegularCon[\"Fechas\"],\n",
    "                                 y = RegularCon['{}'.format(drompdown_4_value)],\\\n",
    "                     line = dict(color = 'yellow', width = 5))])\n",
    "    \n",
    "    fig8 = go.Figure([go.Scatter(x = RegularImp[\"Fechas\"],\n",
    "                             y = RegularImp['{}'.format(drompdown_4_value)],\\\n",
    "                 line = dict(color = 'yellow', width = 5))])\n",
    "    \n",
    "    fig9 = go.Figure([go.Scatter(x = SuperCon[\"Fechas\"],\n",
    "                                 y = SuperCon['{}'.format(drompdown_5_value)],\\\n",
    "                     line = dict(color = 'green', width = 5))])\n",
    "    \n",
    "    fig10 = go.Figure([go.Scatter(x = SuperImp[\"Fechas\"],\n",
    "                             y = SuperImp['{}'.format(drompdown_5_value)],\\\n",
    "                 line = dict(color = 'green', width = 5))])\n",
    "    \n",
    "    fig11 = go.Figure([go.Scatter(x = DieselCon[\"Fechas\"],\n",
    "                                 y = DieselCon['{}'.format(drompdown_6_value)],\\\n",
    "                     line = dict(color = 'black', width = 5))])\n",
    "    \n",
    "    fig12 = go.Figure([go.Scatter(x = DieselImp[\"Fechas\"],\n",
    "                             y = DieselImp['{}'.format(drompdown_6_value)],\\\n",
    "                 line = dict(color = 'black', width = 5))])\n",
    "    \n",
    "    \n",
    "    fig1.update_layout(title = 'Consumo de gasolina ' + str(dropdown_value),\n",
    "                      xaxis_title = str(np.abs(rslider_value[len(rslider_value) - 1]  - rslider_value[0])) +' Meses',\n",
    "                      yaxis_title = 'Cantidad de Barriles Consumidos')\n",
    "    \n",
    "    fig2.update_layout(title = 'Importaciones de gasolina ' + str(dropdown_value),\n",
    "                  xaxis_title = str(np.abs(rslider_value[len(rslider_value) - 1]  - rslider_value[0])) + ' Meses',\n",
    "                  yaxis_title = 'Importaciones de Barriles Consumidos')\n",
    "    \n",
    "    fig3.update_layout(title = 'Consumo Anual de gasolina ' + str(drompdown_2_value),\n",
    "                  xaxis_title = ' Años',\n",
    "                  yaxis_title = 'Consumo de Barriles de Gasolina')\n",
    "\n",
    "    fig4.update_layout(title = 'Importaciones Anual de gasolina ' + str(drompdown_2_value),\n",
    "              xaxis_title = ' Años',\n",
    "              yaxis_title = 'Importación de Barriles de Gasolina')\n",
    "    \n",
    "    fig5.update_layout(title = 'Consumo Anual de gasolina ' + str(drompdown_3_value),\n",
    "                  xaxis_title = ' Meses',\n",
    "                  yaxis_title = 'Consumo de Barriles de Gasolina')\n",
    "\n",
    "    fig6.update_layout(title = 'Importaciones Anual de gasolina ' + str(drompdown_3_value),\n",
    "              xaxis_title = ' Meses',\n",
    "              yaxis_title = 'Importación de Barriles de Gasolina')\n",
    "    \n",
    "    fig7.update_layout(title = 'Resultados de Consumo de Gasolina Regular con el modelo ' + str(drompdown_4_value),\n",
    "              xaxis_title = ' Meses',\n",
    "              yaxis_title = 'Consumo de Barriles de Gasolina')   \n",
    "\n",
    "    fig8.update_layout(title = 'Resultados de Importaciones de Gasolina Regular con el modelo ' + str(drompdown_4_value),\n",
    "              xaxis_title = ' Meses',\n",
    "              yaxis_title = 'Importaciones de Barriles de Gasolina')  \n",
    "    \n",
    "    fig9.update_layout(title = 'Resultados de Consumo de Gasolina Super con el modelo ' + str(drompdown_5_value),\n",
    "              xaxis_title = ' Meses',\n",
    "              yaxis_title = 'Consumo de Barriles de Gasolina')   \n",
    "\n",
    "    fig10.update_layout(title = 'Resultados de Importaciones de Gasolina Super con el modelo ' + str(drompdown_5_value),\n",
    "              xaxis_title = ' Meses',\n",
    "              yaxis_title = 'Importaciones de Barriles de Gasolina') \n",
    "    fig11.update_layout(title = 'Resultados de Consumo de Gasolina Diesel con el modelo ' + str(drompdown_6_value),\n",
    "              xaxis_title = ' Meses',\n",
    "              yaxis_title = 'Consumo de Barriles de Gasolina')   \n",
    "\n",
    "    fig12.update_layout(title = 'Resultados de Importaciones de Gasolina Diesel con el modelo ' + str(drompdown_6_value),\n",
    "              xaxis_title = ' Meses',\n",
    "              yaxis_title = 'Importaciones de Barriles de Gasolina') \n",
    "    \n",
    "    return fig1, fig2, fig3, fig4, fig5, fig6, fig7, fig8, fig9, fig10, fig11, fig12"
   ]
  },
  {
   "cell_type": "code",
   "execution_count": 65,
   "metadata": {},
   "outputs": [
    {
     "name": "stdout",
     "output_type": "stream",
     "text": [
      "Dash is running on http://127.0.0.1:8050/\n",
      "\n",
      "Dash is running on http://127.0.0.1:8050/\n",
      "\n",
      "Dash is running on http://127.0.0.1:8050/\n",
      "\n",
      "Dash is running on http://127.0.0.1:8050/\n",
      "\n",
      "Dash is running on http://127.0.0.1:8050/\n",
      "\n",
      " * Serving Flask app \"__main__\" (lazy loading)\n",
      " * Environment: production\n",
      "   WARNING: This is a development server. Do not use it in a production deployment.\n",
      "   Use a production WSGI server instead.\n",
      " * Debug mode: off\n"
     ]
    },
    {
     "name": "stderr",
     "output_type": "stream",
     "text": [
      " * Running on http://127.0.0.1:8050/ (Press CTRL+C to quit)\n",
      "127.0.0.1 - - [21/Oct/2021 18:41:40] \"\u001b[37mGET / HTTP/1.1\u001b[0m\" 200 -\n",
      "127.0.0.1 - - [21/Oct/2021 18:41:40] \"\u001b[37mGET /_dash-layout HTTP/1.1\u001b[0m\" 200 -\n",
      "127.0.0.1 - - [21/Oct/2021 18:41:40] \"\u001b[37mGET /_dash-dependencies HTTP/1.1\u001b[0m\" 200 -\n",
      "127.0.0.1 - - [21/Oct/2021 18:41:40] \"\u001b[37mGET /_dash-component-suites/dash/dcc/async-dropdown.js HTTP/1.1\u001b[0m\" 200 -\n",
      "127.0.0.1 - - [21/Oct/2021 18:41:40] \"\u001b[37mGET /_dash-component-suites/dash/dcc/async-slider.js HTTP/1.1\u001b[0m\" 200 -\n",
      "127.0.0.1 - - [21/Oct/2021 18:41:40] \"\u001b[37mGET /_dash-component-suites/dash/dcc/async-graph.js HTTP/1.1\u001b[0m\" 200 -\n",
      "127.0.0.1 - - [21/Oct/2021 18:41:40] \"\u001b[37mGET /_dash-component-suites/dash/dcc/async-plotlyjs.js HTTP/1.1\u001b[0m\" 200 -\n",
      "127.0.0.1 - - [21/Oct/2021 18:41:40] \"\u001b[37mPOST /_dash-update-component HTTP/1.1\u001b[0m\" 200 -\n",
      "127.0.0.1 - - [21/Oct/2021 18:42:00] \"\u001b[37mPOST /_dash-update-component HTTP/1.1\u001b[0m\" 200 -\n",
      "127.0.0.1 - - [21/Oct/2021 18:42:09] \"\u001b[37mPOST /_dash-update-component HTTP/1.1\u001b[0m\" 200 -\n",
      "127.0.0.1 - - [21/Oct/2021 18:42:16] \"\u001b[37mPOST /_dash-update-component HTTP/1.1\u001b[0m\" 200 -\n",
      "127.0.0.1 - - [21/Oct/2021 18:42:19] \"\u001b[37mPOST /_dash-update-component HTTP/1.1\u001b[0m\" 200 -\n",
      "127.0.0.1 - - [21/Oct/2021 18:42:22] \"\u001b[37mPOST /_dash-update-component HTTP/1.1\u001b[0m\" 200 -\n",
      "127.0.0.1 - - [21/Oct/2021 18:42:27] \"\u001b[37mPOST /_dash-update-component HTTP/1.1\u001b[0m\" 200 -\n",
      "127.0.0.1 - - [21/Oct/2021 18:43:10] \"\u001b[37mPOST /_dash-update-component HTTP/1.1\u001b[0m\" 200 -\n",
      "127.0.0.1 - - [21/Oct/2021 18:43:14] \"\u001b[37mPOST /_dash-update-component HTTP/1.1\u001b[0m\" 200 -\n"
     ]
    }
   ],
   "source": [
    "if __name__ == '__main__': \n",
    "    app.run_server()"
   ]
  }
 ],
 "metadata": {
  "kernelspec": {
   "display_name": "Python 3",
   "language": "python",
   "name": "python3"
  },
  "language_info": {
   "codemirror_mode": {
    "name": "ipython",
    "version": 3
   },
   "file_extension": ".py",
   "mimetype": "text/x-python",
   "name": "python",
   "nbconvert_exporter": "python",
   "pygments_lexer": "ipython3",
   "version": "3.8.3"
  }
 },
 "nbformat": 4,
 "nbformat_minor": 4
}
